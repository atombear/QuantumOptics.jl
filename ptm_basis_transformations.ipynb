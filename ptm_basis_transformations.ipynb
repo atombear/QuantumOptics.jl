{
 "cells": [
  {
   "cell_type": "code",
   "execution_count": 1,
   "metadata": {},
   "outputs": [],
   "source": [
    "using Revise"
   ]
  },
  {
   "cell_type": "code",
   "execution_count": 2,
   "metadata": {},
   "outputs": [
    {
     "name": "stderr",
     "output_type": "stream",
     "text": [
      "┌ Info: Recompiling stale cache file /Users/alexanderpapageorge/.julia/compiled/v1.1/QuantumOptics/gWeRI.ji for QuantumOptics [6e0679c1-51ea-5a7c-ac74-d61b76210b0c]\n",
      "└ @ Base loading.jl:1184\n"
     ]
    }
   ],
   "source": [
    "using QuantumOptics\n",
    "using PyPlot\n",
    "using LinearAlgebra"
   ]
  },
  {
   "cell_type": "code",
   "execution_count": 8,
   "metadata": {},
   "outputs": [
    {
     "data": {
      "text/plain": [
       "pauli_basis_vectors (generic function with 1 method)"
      ]
     },
     "execution_count": 8,
     "metadata": {},
     "output_type": "execute_result"
    }
   ],
   "source": [
    "function pauli_basis_vectors(num_qubits::Int64)\n",
    "    pauli_funcs = (identityoperator, sigmax, sigmay, sigmaz)\n",
    "    pbv = []\n",
    "    for paulis in Iterators.product((pauli_funcs for _ in 1:num_qubits)...)\n",
    "        basis_vector = sparse(reshape(reduce(⊗, f(SpinBasis(1//2)) for f in paulis).data, 2 ^ (2*num_qubits)))\n",
    "        push!(pbv, basis_vector)\n",
    "    end\n",
    "    return reduce((x, y) -> [x y], pbv)\n",
    "end"
   ]
  },
  {
   "cell_type": "code",
   "execution_count": 9,
   "metadata": {},
   "outputs": [
    {
     "data": {
      "text/plain": [
       "DenseOperator{PauliBasis{Tuple{SpinBasis{1//2},SpinBasis{1//2}}},PauliBasis{Tuple{SpinBasis{1//2},SpinBasis{1//2}}},Array{Complex{Float64},2}}"
      ]
     },
     "execution_count": 9,
     "metadata": {},
     "output_type": "execute_result"
    }
   ],
   "source": [
    "typeof(cz)"
   ]
  },
  {
   "cell_type": "code",
   "execution_count": 10,
   "metadata": {},
   "outputs": [
    {
     "data": {
      "text/plain": [
       "ChiMatrix (generic function with 1 method)"
      ]
     },
     "execution_count": 10,
     "metadata": {},
     "output_type": "execute_result"
    }
   ],
   "source": [
    "function ChiMatrix(unitary::AbstractOperator)\n",
    "    pbv = pauli_basis_vectors(2)\n",
    "    aj = pbv' * reshape(unitary.data, 16)\n",
    "    return aj * aj'\n",
    "end"
   ]
  },
  {
   "cell_type": "code",
   "execution_count": 11,
   "metadata": {},
   "outputs": [
    {
     "data": {
      "image/png": "[encoded data removed]",
      "text/plain": [
       "Figure(PyObject <Figure size 640x480 with 1 Axes>)"
      ]
     },
     "metadata": {},
     "output_type": "display_data"
    },
    {
     "data": {
      "text/plain": [
       "PyObject <matplotlib.image.AxesImage object at 0x1457676a0>"
      ]
     },
     "execution_count": 11,
     "metadata": {},
     "output_type": "execute_result"
    }
   ],
   "source": [
    "imshow(real.(ChiMatrix(cz)))"
   ]
  },
  {
   "cell_type": "code",
   "execution_count": 3,
   "metadata": {},
   "outputs": [
    {
     "data": {
      "text/plain": [
       "avg_gate_fidelity (generic function with 1 method)"
      ]
     },
     "execution_count": 3,
     "metadata": {},
     "output_type": "execute_result"
    }
   ],
   "source": [
    "pauli_basis = (Complex{Float64}[1 0; 0 1] / √2, \n",
    "               Complex{Float64}[0 1; 1 0] / √2, \n",
    "               Complex{Float64}[0 -1im; 1im 0] / √2,\n",
    "               Complex{Float64}[1 0; 0 -1] / √2)\n",
    "\n",
    "function frobenius_norm(m0::AbstractArray, m1::AbstractArray)\n",
    "    return sum(m0 .* transpose(m1))\n",
    "end\n",
    "\n",
    "function frobenius_norm(m0::DenseSuperOperator, m1::DenseSuperOperator)\n",
    "    return sum(m0.data .* transpose(m1.data))\n",
    "end\n",
    "\n",
    "function pauli_ops(n::Int64)\n",
    "    return map(x -> kron(x...), Iterators.product([pauli_basis for _ in 1:n]...))\n",
    "end\n",
    "\n",
    "function unitary_to_ptm(unitary:: AbstractArray)\n",
    "    unitary_dim = size(unitary)[1]\n",
    "    ptm_dim = unitary_dim ^ 2\n",
    "    nqubits = floor(Int64, log2(unitary_dim))\n",
    "    ptm = zeros(Complex{Float64}, (ptm_dim, ptm_dim))\n",
    "    \n",
    "    for (idx, pi) in enumerate(pauli_ops(nqubits))\n",
    "#         pi = kron(pi...)\n",
    "        for (jdx, pj) in enumerate(pauli_ops(nqubits))\n",
    "#             pj = kron(pj...)\n",
    "            ptm[idx, jdx] = frobenius_norm(unitary' * pi * unitary, pj)\n",
    "        end\n",
    "    end\n",
    "    \n",
    "    return real.(ptm)\n",
    "end\n",
    "\n",
    "function avg_gate_fidelity(meas:: AbstractArray, target:: AbstractArray)\n",
    "    dim = floor(Int64, sqrt(size(meas)[1]))\n",
    "    return (tr(meas' * target) + dim) / (dim^2 + dim)\n",
    "end    "
   ]
  },
  {
   "cell_type": "code",
   "execution_count": 4,
   "metadata": {},
   "outputs": [
    {
     "data": {
      "text/plain": [
       "cϕ (generic function with 2 methods)"
      ]
     },
     "execution_count": 4,
     "metadata": {},
     "output_type": "execute_result"
    }
   ],
   "source": [
    "sz = diagm(0 => Complex{Float64}[1, -1])\n",
    "eye = diagm(0 => Complex{Float64}[1, 1])\n",
    "cϕ(ϕ) = diagm(0 => [1, 1, 1, exp(1im * ϕ)])\n",
    "cϕ(α, β, ϕ) = exp(1im * α * kron(sz, eye) / 2) * exp(1im * β * kron(eye, sz) / 2) * cϕ(ϕ)"
   ]
  },
  {
   "cell_type": "code",
   "execution_count": 5,
   "metadata": {},
   "outputs": [
    {
     "data": {
      "image/png": "[encoded data removed]",
      "text/plain": [
       "Figure(PyObject <Figure size 640x480 with 1 Axes>)"
      ]
     },
     "metadata": {},
     "output_type": "display_data"
    },
    {
     "data": {
      "text/plain": [
       "PyObject <matplotlib.image.AxesImage object at 0x1139b0940>"
      ]
     },
     "execution_count": 5,
     "metadata": {},
     "output_type": "execute_result"
    }
   ],
   "source": [
    "imshow(unitary_to_ptm(cϕ(0,0,π)))"
   ]
  },
  {
   "cell_type": "code",
   "execution_count": 6,
   "metadata": {},
   "outputs": [
    {
     "data": {
      "text/plain": [
       "true"
      ]
     },
     "execution_count": 6,
     "metadata": {},
     "output_type": "execute_result"
    }
   ],
   "source": [
    "pb = PauliBasis(2)\n",
    "cz = DenseOperator(pb, pb, diagm(0=>[1,1,1,-1]))\n",
    "SuperOperator(cz).basis_l == SuperOperator(cz).basis_r == (pb, pb)"
   ]
  },
  {
   "cell_type": "code",
   "execution_count": 7,
   "metadata": {},
   "outputs": [
    {
     "data": {
      "text/plain": [
       "QuantumOptics.pauli.DensePauliTransferMatrix{Tuple{PauliBasis{Tuple{SpinBasis{1//2},SpinBasis{1//2}}},PauliBasis{Tuple{SpinBasis{1//2},SpinBasis{1//2}}}},Tuple{PauliBasis{Tuple{SpinBasis{1//2},SpinBasis{1//2}}},PauliBasis{Tuple{SpinBasis{1//2},SpinBasis{1//2}}}},Array{Float64,2}}((PauliBasis{Tuple{SpinBasis{1//2},SpinBasis{1//2}}}([2, 2], (Spin(1/2), Spin(1/2))), PauliBasis{Tuple{SpinBasis{1//2},SpinBasis{1//2}}}([2, 2], (Spin(1/2), Spin(1/2)))), (PauliBasis{Tuple{SpinBasis{1//2},SpinBasis{1//2}}}([2, 2], (Spin(1/2), Spin(1/2))), PauliBasis{Tuple{SpinBasis{1//2},SpinBasis{1//2}}}([2, 2], (Spin(1/2), Spin(1/2)))), [1.0 0.0 … 0.0 0.0; 0.0 0.0 … 0.0 0.0; … ; 0.0 0.0 … 0.0 0.0; 0.0 0.0 … 0.0 1.0])"
      ]
     },
     "execution_count": 7,
     "metadata": {},
     "output_type": "execute_result"
    }
   ],
   "source": [
    "PauliTransferMatrix(cz)"
   ]
  },
  {
   "cell_type": "code",
   "execution_count": 7,
   "metadata": {},
   "outputs": [
    {
     "data": {
      "text/plain": [
       "typen (generic function with 1 method)"
      ]
     },
     "execution_count": 7,
     "metadata": {},
     "output_type": "execute_result"
    }
   ],
   "source": [
    "typen(n) = DenseSuperOperator{Tuple{(PauliBasis{Tuple{(SpinBasis{1//2} for _ in 1:n)...}} for _ in 1:2)...},\n",
    "                              Tuple{(PauliBasis{Tuple{(SpinBasis{1//2} for _ in 1:n)...}} for _ in 1:2)...},\n",
    "                              Array{Complex{Float64},2}}"
   ]
  },
  {
   "cell_type": "code",
   "execution_count": 8,
   "metadata": {},
   "outputs": [
    {
     "data": {
      "text/plain": [
       "DenseSuperOperator{Tuple{PauliBasis{Tuple{SpinBasis{1//2},SpinBasis{1//2}}},PauliBasis{Tuple{SpinBasis{1//2},SpinBasis{1//2}}}},Tuple{PauliBasis{Tuple{SpinBasis{1//2},SpinBasis{1//2}}},PauliBasis{Tuple{SpinBasis{1//2},SpinBasis{1//2}}}},Array{Complex{Float64},2}}"
      ]
     },
     "execution_count": 8,
     "metadata": {},
     "output_type": "execute_result"
    }
   ],
   "source": [
    "typen(2)"
   ]
  },
  {
   "cell_type": "code",
   "execution_count": 1,
   "metadata": {},
   "outputs": [
    {
     "data": {
      "text/plain": [
       "bar (generic function with 1 method)"
      ]
     },
     "execution_count": 1,
     "metadata": {},
     "output_type": "execute_result"
    }
   ],
   "source": [
    "@generated function bar(x::NTuple{T}) where T\n",
    "    ret = Expr(:call, :+, (:(x[$i]) for i in 1:T)...)\n",
    "    return ret\n",
    "end"
   ]
  },
  {
   "cell_type": "code",
   "execution_count": 9,
   "metadata": {},
   "outputs": [
    {
     "data": {
      "image/png": "[encoded data removed]",
      "text/plain": [
       "Figure(PyObject <Figure size 640x480 with 1 Axes>)"
      ]
     },
     "metadata": {},
     "output_type": "display_data"
    },
    {
     "data": {
      "text/plain": [
       "PyObject <matplotlib.image.AxesImage object at 0x1203f7780>"
      ]
     },
     "execution_count": 9,
     "metadata": {},
     "output_type": "execute_result"
    }
   ],
   "source": [
    "cz = DenseOperator(pb, pb, cϕ(0,0,π))\n",
    "czsop = SuperOperator(cz)\n",
    "imshow(real.(czsop.data))"
   ]
  },
  {
   "cell_type": "code",
   "execution_count": 10,
   "metadata": {},
   "outputs": [
    {
     "data": {
      "image/png": "[encoded data removed]",
      "text/plain": [
       "Figure(PyObject <Figure size 640x480 with 1 Axes>)"
      ]
     },
     "metadata": {},
     "output_type": "display_data"
    },
    {
     "data": {
      "text/plain": [
       "PyObject <matplotlib.image.AxesImage object at 0x1453ec940>"
      ]
     },
     "execution_count": 10,
     "metadata": {},
     "output_type": "execute_result"
    }
   ],
   "source": [
    "imshow(PauliTransferMatrix(czsop).data)"
   ]
  },
  {
   "cell_type": "code",
   "execution_count": 11,
   "metadata": {},
   "outputs": [
    {
     "data": {
      "text/plain": [
       "pb0 (generic function with 1 method)"
      ]
     },
     "execution_count": 11,
     "metadata": {},
     "output_type": "execute_result"
    }
   ],
   "source": [
    "function pb0(num_qubits::Int64)\n",
    "    pauli_funcs = (identityoperator, sigmax, sigmay, sigmaz)\n",
    "    pbv = []\n",
    "    for paulis in Iterators.product((pauli_funcs for _ in 1:num_qubits)...)\n",
    "        basis_vector = sparse(reshape(reduce(⊗, f(SpinBasis(1//2)) for f in paulis).data, 2 ^ (2*num_qubits)))\n",
    "        push!(pbv, basis_vector)\n",
    "    end\n",
    "    return reduce((x, y) -> [x y], pbv)\n",
    "end"
   ]
  },
  {
   "cell_type": "code",
   "execution_count": 24,
   "metadata": {},
   "outputs": [
    {
     "data": {
      "text/plain": [
       "16×16 SparseArrays.SparseMatrixCSC{Complex{Float64},Int64} with 64 stored entries:\n",
       "  [1 ,  1]  =  1.0+0.0im\n",
       "  [6 ,  1]  =  1.0+0.0im\n",
       "  [11,  1]  =  1.0+0.0im\n",
       "  [16,  1]  =  1.0+0.0im\n",
       "  [2 ,  2]  =  1.0+0.0im\n",
       "  [5 ,  2]  =  1.0+0.0im\n",
       "  [12,  2]  =  1.0+0.0im\n",
       "  [15,  2]  =  1.0+0.0im\n",
       "  [2 ,  3]  =  0.0+1.0im\n",
       "  [5 ,  3]  =  0.0-1.0im\n",
       "  [12,  3]  =  0.0+1.0im\n",
       "  [15,  3]  =  0.0-1.0im\n",
       "  ⋮\n",
       "  [2 , 14]  =  1.0+0.0im\n",
       "  [5 , 14]  =  1.0+0.0im\n",
       "  [12, 14]  =  -1.0+0.0im\n",
       "  [15, 14]  =  -1.0+0.0im\n",
       "  [2 , 15]  =  0.0+1.0im\n",
       "  [5 , 15]  =  0.0-1.0im\n",
       "  [12, 15]  =  -0.0-1.0im\n",
       "  [15, 15]  =  0.0+1.0im\n",
       "  [1 , 16]  =  1.0+0.0im\n",
       "  [6 , 16]  =  -1.0+0.0im\n",
       "  [11, 16]  =  -1.0+0.0im\n",
       "  [16, 16]  =  1.0-0.0im"
      ]
     },
     "execution_count": 24,
     "metadata": {},
     "output_type": "execute_result"
    }
   ],
   "source": [
    "pb0(2)"
   ]
  },
  {
   "cell_type": "code",
   "execution_count": null,
   "metadata": {},
   "outputs": [],
   "source": []
  },
  {
   "cell_type": "code",
   "execution_count": 16,
   "metadata": {},
   "outputs": [],
   "source": [
    "fieldnames(typeof(myops[1].data))\n",
    "d = Complex{Float64}[1 0; 0 -1]\n",
    "this_basis = (myops[1].basis_l, myops[1].basis_r)\n",
    "@assert typeof(d) <: Matrix{ComplexF64}\n",
    "@assert typeof(this_basis) <: Tuple{Basis, Basis}"
   ]
  },
  {
   "cell_type": "code",
   "execution_count": 17,
   "metadata": {},
   "outputs": [],
   "source": [
    "abstract type Vectorized{B<:Tuple{Basis,Basis}} end"
   ]
  },
  {
   "cell_type": "code",
   "execution_count": 18,
   "metadata": {},
   "outputs": [],
   "source": [
    "mutable struct DenseVectorized{B<:Tuple{Basis, Basis}, T<:Array{ComplexF64, 1}} <: Vectorized{B}\n",
    "    basis::B\n",
    "    data::T\n",
    "    function DenseVectorized(basis::Tuple{Basis, Basis}, data::Matrix{ComplexF64})\n",
    "        @assert basis[1] == basis[2]\n",
    "        return new{Tuple{Basis, Basis}, Array{ComplexF64, 1}}(basis, reshape(data, length(data)))\n",
    "    end\n",
    "end\n",
    "\n",
    "# mutable struct SparseVectorized{B<:Tuple{Basis, Basis}, T<:SparseMatrixCSC{ComplexF64,Int}} <: Vectorized{B}\n",
    "#     basis::B\n",
    "#     data::T\n",
    "#     function SparseVectorized{B, T}(basis::B, data::T) where {B<:Tuple{Basis, Basis}, T<:SparseMatrixCSC{ComplexF64,Int}}\n",
    "#         @assert basis[1] == basis[2]\n",
    "#         return new(basis, reshape(data, length(data)))\n",
    "#     end\n",
    "# end"
   ]
  },
  {
   "cell_type": "code",
   "execution_count": 23,
   "metadata": {},
   "outputs": [
    {
     "data": {
      "text/plain": [
       "PauliBasis{Tuple{SpinBasis{1//2},SpinBasis{1//2}}}([2, 2], (Spin(1/2), Spin(1/2)))"
      ]
     },
     "execution_count": 23,
     "metadata": {},
     "output_type": "execute_result"
    }
   ],
   "source": [
    "PauliBasis(2)"
   ]
  },
  {
   "cell_type": "code",
   "execution_count": 19,
   "metadata": {},
   "outputs": [
    {
     "data": {
      "text/plain": [
       "DenseVectorized"
      ]
     },
     "execution_count": 19,
     "metadata": {},
     "output_type": "execute_result"
    }
   ],
   "source": [
    "function DenseVectorized(op::DenseOperator)\n",
    "    return DenseVectorized((op.basis_l, op.basis_r), op.data)\n",
    "end\n",
    "\n",
    "function DenseVectorized(op::SparseOperator)\n",
    "    return DenseVectorized((op.basis_l, op.basis_r), Matrix(op.data))\n",
    "end"
   ]
  },
  {
   "cell_type": "code",
   "execution_count": 21,
   "metadata": {},
   "outputs": [
    {
     "data": {
      "text/plain": [
       "SparseOperator(dim=4x4)\n",
       "  basis: [Spin(1/2) ⊗ Spin(1/2)]\n",
       "  [2, 1]  =  0.0+1.0im\n",
       "  [1, 2]  =  0.0-1.0im\n",
       "  [4, 3]  =  0.0+1.0im\n",
       "  [3, 4]  =  0.0-1.0im"
      ]
     },
     "execution_count": 21,
     "metadata": {},
     "output_type": "execute_result"
    }
   ],
   "source": [
    "myops[3]"
   ]
  },
  {
   "cell_type": "code",
   "execution_count": 20,
   "metadata": {},
   "outputs": [
    {
     "data": {
      "text/plain": [
       "DenseVectorized{Tuple{Basis,Basis},Array{Complex{Float64},1}}(([Spin(1/2) ⊗ Spin(1/2)], [Spin(1/2) ⊗ Spin(1/2)]), Complex{Float64}[0.0+0.0im, 0.0+1.0im, 0.0+0.0im, 0.0+0.0im, 0.0-1.0im, 0.0+0.0im, 0.0+0.0im, 0.0+0.0im, 0.0+0.0im, 0.0+0.0im, 0.0+0.0im, 0.0+1.0im, 0.0+0.0im, 0.0+0.0im, 0.0-1.0im, 0.0+0.0im])"
      ]
     },
     "execution_count": 20,
     "metadata": {},
     "output_type": "execute_result"
    }
   ],
   "source": [
    "DenseVectorized(myops[3])"
   ]
  },
  {
   "cell_type": "code",
   "execution_count": 35,
   "metadata": {},
   "outputs": [
    {
     "data": {
      "text/plain": [
       "(Spin(1/2), Spin(1/2))"
      ]
     },
     "execution_count": 35,
     "metadata": {},
     "output_type": "execute_result"
    }
   ],
   "source": [
    "b = czsop.basis_l[1].bases"
   ]
  },
  {
   "cell_type": "code",
   "execution_count": 36,
   "metadata": {},
   "outputs": [
    {
     "data": {
      "text/plain": [
       "DenseVectorized"
      ]
     },
     "execution_count": 36,
     "metadata": {},
     "output_type": "execute_result"
    }
   ],
   "source": [
    "DenseVectorized"
   ]
  },
  {
   "cell_type": "code",
   "execution_count": 67,
   "metadata": {},
   "outputs": [
    {
     "data": {
      "text/plain": [
       "true"
      ]
     },
     "execution_count": 67,
     "metadata": {},
     "output_type": "execute_result"
    }
   ],
   "source": [
    "typeof(myops[1].basis_r) <: Basis"
   ]
  },
  {
   "cell_type": "code",
   "execution_count": 62,
   "metadata": {},
   "outputs": [
    {
     "data": {
      "text/plain": [
       "16-element reshape(::SparseArrays.SparseMatrixCSC{Complex{Float64},Int64}, 16) with eltype Complex{Float64}:\n",
       " 1.0 + 0.0im\n",
       " 0.0 + 0.0im\n",
       " 0.0 + 0.0im\n",
       " 0.0 + 0.0im\n",
       " 0.0 + 0.0im\n",
       " 1.0 + 0.0im\n",
       " 0.0 + 0.0im\n",
       " 0.0 + 0.0im\n",
       " 0.0 + 0.0im\n",
       " 0.0 + 0.0im\n",
       " 1.0 + 0.0im\n",
       " 0.0 + 0.0im\n",
       " 0.0 + 0.0im\n",
       " 0.0 + 0.0im\n",
       " 0.0 + 0.0im\n",
       " 1.0 + 0.0im"
      ]
     },
     "execution_count": 62,
     "metadata": {},
     "output_type": "execute_result"
    }
   ],
   "source": [
    "reshape(myops[1].data, 16)"
   ]
  },
  {
   "cell_type": "code",
   "execution_count": 81,
   "metadata": {},
   "outputs": [
    {
     "data": {
      "text/plain": [
       "SparseArrays.SparseMatrixCSC{Complex{Float64},Int64}"
      ]
     },
     "execution_count": 81,
     "metadata": {},
     "output_type": "execute_result"
    }
   ],
   "source": [
    "typeof(myops[1].data)"
   ]
  },
  {
   "cell_type": "code",
   "execution_count": 91,
   "metadata": {},
   "outputs": [],
   "source": [
    "abstract type Vectorized{B<:Tuple{Basis,Basis}} end\n"
   ]
  },
  {
   "cell_type": "code",
   "execution_count": 160,
   "metadata": {},
   "outputs": [],
   "source": [
    "using SparseArrays\n",
    "mutable struct SparseVectorized{B<:Tuple{Basis, Basis}, T<:SparseMatrixCSC{ComplexF64,Int}} <: Vectorized{B}\n",
    "    basis::B\n",
    "    data::T\n",
    "    function SparseVectorized(basis::B) where B <: Tuple{Basis, Basis}\n",
    "        return typeof(basis) <: Tuple{Basis, Basis}\n",
    "    end\n",
    "    function SparseVectorized3(basis::B, data::T) where {B<:Tuple{Basis, Basis}, T<:SparseMatrixCSC{ComplexF64,Int}}\n",
    "        @assert basis[1] == basis[2]\n",
    "        return new{typeof(basis), typeof(data)}(basis, SparseMatrixCSC(reshape(data, 16)))\n",
    "    end\n",
    "end"
   ]
  },
  {
   "cell_type": "code",
   "execution_count": 161,
   "metadata": {},
   "outputs": [
    {
     "name": "stdout",
     "output_type": "stream",
     "text": [
      "true\n",
      "true\n"
     ]
    },
    {
     "ename": "MethodError",
     "evalue": "MethodError: no method matching SparseMatrixCSC(::Base.ReshapedArray{Complex{Float64},1,SparseMatrixCSC{Complex{Float64},Int64},Tuple{Base.MultiplicativeInverses.SignedMultiplicativeInverse{Int64}}})\nClosest candidates are:\n  SparseMatrixCSC(!Matched::SparseMatrixCSC) at /buildworker/worker/package_linux64/build/usr/share/julia/stdlib/v1.1/SparseArrays/src/sparsematrix.jl:359\n  SparseMatrixCSC(!Matched::Array{T,2} where T) at /buildworker/worker/package_linux64/build/usr/share/julia/stdlib/v1.1/SparseArrays/src/sparsematrix.jl:371\n  SparseMatrixCSC(!Matched::Adjoint{#s623,#s622} where #s622<:SparseMatrixCSC where #s623) at /buildworker/worker/package_linux64/build/usr/share/julia/stdlib/v1.1/SparseArrays/src/sparsematrix.jl:402\n  ...",
     "output_type": "error",
     "traceback": [
      "MethodError: no method matching SparseMatrixCSC(::Base.ReshapedArray{Complex{Float64},1,SparseMatrixCSC{Complex{Float64},Int64},Tuple{Base.MultiplicativeInverses.SignedMultiplicativeInverse{Int64}}})\nClosest candidates are:\n  SparseMatrixCSC(!Matched::SparseMatrixCSC) at /buildworker/worker/package_linux64/build/usr/share/julia/stdlib/v1.1/SparseArrays/src/sparsematrix.jl:359\n  SparseMatrixCSC(!Matched::Array{T,2} where T) at /buildworker/worker/package_linux64/build/usr/share/julia/stdlib/v1.1/SparseArrays/src/sparsematrix.jl:371\n  SparseMatrixCSC(!Matched::Adjoint{#s623,#s622} where #s622<:SparseMatrixCSC where #s623) at /buildworker/worker/package_linux64/build/usr/share/julia/stdlib/v1.1/SparseArrays/src/sparsematrix.jl:402\n  ...",
      "",
      "Stacktrace:",
      " [1] SparseVectorized3(::Tuple{CompositeBasis{Tuple{SpinBasis{1//2},SpinBasis{1//2}}},CompositeBasis{Tuple{SpinBasis{1//2},SpinBasis{1//2}}}}, ::SparseMatrixCSC{Complex{Float64},Int64}) at ./In[160]:10",
      " [2] SparseVectorized(::SparseOperator{CompositeBasis{Tuple{SpinBasis{1//2},SpinBasis{1//2}}},CompositeBasis{Tuple{SpinBasis{1//2},SpinBasis{1//2}}},SparseMatrixCSC{Complex{Float64},Int64}}) at ./In[153]:4",
      " [3] top-level scope at In[161]:1"
     ]
    }
   ],
   "source": [
    "SparseVectorized(myops[1])"
   ]
  },
  {
   "cell_type": "code",
   "execution_count": 153,
   "metadata": {},
   "outputs": [
    {
     "data": {
      "text/plain": [
       "SparseVectorized"
      ]
     },
     "execution_count": 153,
     "metadata": {},
     "output_type": "execute_result"
    }
   ],
   "source": [
    "function SparseVectorized(op::DataOperator)\n",
    "    println(typeof((op.basis_l, op.basis_r)) <: Tuple{CompositeBasis{Tuple{SpinBasis{1//2},SpinBasis{1//2}}},CompositeBasis{Tuple{SpinBasis{1//2},SpinBasis{1//2}}}})\n",
    "    println(typeof(op.data) <: SparseMatrixCSC{ComplexF64,Int})\n",
    "    SparseVectorized3((op.basis_l, op.basis_r), op.data)\n",
    "#     SparseVectorized3((op.basis_l, op.basis_r))\n",
    "\n",
    "end"
   ]
  },
  {
   "cell_type": "code",
   "execution_count": 72,
   "metadata": {},
   "outputs": [
    {
     "data": {
      "text/plain": [
       "DenseVectorized"
      ]
     },
     "execution_count": 72,
     "metadata": {},
     "output_type": "execute_result"
    }
   ],
   "source": [
    "function DenseVectorized(op::DataOperator)\n",
    "    typeof((op.basis_l, op.basis_r)) <: Tuple{Basis, Basis}\n",
    "    DenseVectorized((op.basis_l, op.basis_r), op.data)\n",
    "end"
   ]
  },
  {
   "cell_type": "code",
   "execution_count": 58,
   "metadata": {},
   "outputs": [
    {
     "data": {
      "text/plain": [
       "true"
      ]
     },
     "execution_count": 58,
     "metadata": {},
     "output_type": "execute_result"
    }
   ],
   "source": [
    "typeof(myops[1]) <: DataOperator"
   ]
  },
  {
   "cell_type": "code",
   "execution_count": 11,
   "metadata": {},
   "outputs": [
    {
     "ename": "UndefVarError",
     "evalue": "UndefVarError: l not defined",
     "output_type": "error",
     "traceback": [
      "UndefVarError: l not defined",
      "",
      "Stacktrace:",
      " [1] top-level scope at In[11]:1"
     ]
    }
   ],
   "source": [
    "l"
   ]
  },
  {
   "cell_type": "code",
   "execution_count": 12,
   "metadata": {},
   "outputs": [
    {
     "ename": "MethodError",
     "evalue": "MethodError: objects of type Tuple{typeof(sigmax),typeof(sigmay)} are not callable",
     "output_type": "error",
     "traceback": [
      "MethodError: objects of type Tuple{typeof(sigmax),typeof(sigmay)} are not callable",
      "",
      "Stacktrace:",
      " [1] map(::Tuple{typeof(sigmax),typeof(sigmay)}, ::Tuple{SpinBasis{1//2},SpinBasis{1//2}}) at ./tuple.jl:166",
      " [2] broadcast(::Tuple{typeof(sigmax),typeof(sigmay)}, ::Tuple{SpinBasis{1//2},SpinBasis{1//2}}) at ./broadcast.jl:711",
      " [3] top-level scope at In[12]:1"
     ]
    }
   ],
   "source": [
    "broadcast((sigmax, sigmay), b)"
   ]
  },
  {
   "cell_type": "code",
   "execution_count": 13,
   "metadata": {},
   "outputs": [
    {
     "data": {
      "text/plain": [
       "(Spin(1/2), Spin(1/2))"
      ]
     },
     "execution_count": 13,
     "metadata": {},
     "output_type": "execute_result"
    }
   ],
   "source": [
    "identity(b)"
   ]
  },
  {
   "cell_type": "code",
   "execution_count": 14,
   "metadata": {},
   "outputs": [],
   "source": [
    "@assert czsop.basis_l[1] == czsop.basis_l[2]"
   ]
  },
  {
   "cell_type": "code",
   "execution_count": 15,
   "metadata": {},
   "outputs": [
    {
     "data": {
      "text/plain": [
       "PauliBasis{Tuple{SpinBasis{1//2},SpinBasis{1//2}}}"
      ]
     },
     "execution_count": 15,
     "metadata": {},
     "output_type": "execute_result"
    }
   ],
   "source": [
    "typeof(czsop.basis_l[1])"
   ]
  },
  {
   "cell_type": "code",
   "execution_count": 16,
   "metadata": {},
   "outputs": [
    {
     "data": {
      "text/plain": [
       "SparseOperator(dim=2x2)\n",
       "  basis: Spin(1/2)\n",
       "  [2, 1]  =  1.0+0.0im\n",
       "  [1, 2]  =  1.0+0.0im"
      ]
     },
     "execution_count": 16,
     "metadata": {},
     "output_type": "execute_result"
    }
   ],
   "source": [
    "sigmax(czsop.basis_l[1].bases[1])"
   ]
  },
  {
   "cell_type": "code",
   "execution_count": 17,
   "metadata": {},
   "outputs": [
    {
     "ename": "UndefVarError",
     "evalue": "UndefVarError: czsop not defined",
     "output_type": "error",
     "traceback": [
      "UndefVarError: czsop not defined",
      "",
      "Stacktrace:",
      " [1] PauliTransferMatrix(::DenseSuperOperator{Tuple{PauliBasis{Tuple{SpinBasis{1//2},SpinBasis{1//2}}},PauliBasis{Tuple{SpinBasis{1//2},SpinBasis{1//2}}}},Tuple{PauliBasis{Tuple{SpinBasis{1//2},SpinBasis{1//2}}},PauliBasis{Tuple{SpinBasis{1//2},SpinBasis{1//2}}}},Array{Complex{Float64},2}}) at /home/alexander/QuantumOptics.jl/src/pauli.jl:41",
      " [2] top-level scope at In[17]:1"
     ]
    }
   ],
   "source": [
    "PauliTransferMatrix(czsop)"
   ]
  },
  {
   "cell_type": "code",
   "execution_count": 18,
   "metadata": {},
   "outputs": [
    {
     "data": {
      "text/plain": [
       "Tuple{PauliBasis{Tuple{SpinBasis{1//2},SpinBasis{1//2}}},PauliBasis{Tuple{SpinBasis{1//2},SpinBasis{1//2}}}}"
      ]
     },
     "execution_count": 18,
     "metadata": {},
     "output_type": "execute_result"
    }
   ],
   "source": [
    "typeof(czsop.basis_l)"
   ]
  },
  {
   "cell_type": "code",
   "execution_count": 19,
   "metadata": {},
   "outputs": [
    {
     "data": {
      "text/plain": [
       "true"
      ]
     },
     "execution_count": 19,
     "metadata": {},
     "output_type": "execute_result"
    }
   ],
   "source": [
    "typeof(czsop.basis_l) <: Tuple{PauliBasis, PauliBasis}"
   ]
  },
  {
   "cell_type": "code",
   "execution_count": 20,
   "metadata": {},
   "outputs": [],
   "source": [
    "po = [reshape(i, 16) for i in pauli_ops(2)]\n",
    "temp = zeros(Complex{Float64}, (16, 16))\n",
    "\n",
    "for idx in 1:16\n",
    "    for jdx in 1:16\n",
    "        temp[idx, jdx] = po[idx]' * czsop.data * po[jdx]\n",
    "    end\n",
    "end"
   ]
  },
  {
   "cell_type": "code",
   "execution_count": 21,
   "metadata": {},
   "outputs": [
    {
     "data": {
      "image/png": "[encoded data removed]",
      "text/plain": [
       "Figure(PyObject <Figure size 640x480 with 1 Axes>)"
      ]
     },
     "metadata": {},
     "output_type": "display_data"
    },
    {
     "data": {
      "text/plain": [
       "PyObject <matplotlib.image.AxesImage object at 0x7f00db2b9a20>"
      ]
     },
     "execution_count": 21,
     "metadata": {},
     "output_type": "execute_result"
    }
   ],
   "source": [
    "imshow(real.(temp))"
   ]
  },
  {
   "cell_type": "code",
   "execution_count": 22,
   "metadata": {},
   "outputs": [
    {
     "data": {
      "text/plain": [
       "PauliBasis{Tuple{SpinBasis{1//2},SpinBasis{1//2}}}([2, 2], (Spin(1/2), Spin(1/2)))"
      ]
     },
     "execution_count": 22,
     "metadata": {},
     "output_type": "execute_result"
    }
   ],
   "source": [
    "PauliBasis(2)"
   ]
  },
  {
   "cell_type": "code",
   "execution_count": 23,
   "metadata": {},
   "outputs": [
    {
     "ename": "UndefVarError",
     "evalue": "UndefVarError: bb not defined",
     "output_type": "error",
     "traceback": [
      "UndefVarError: bb not defined",
      "",
      "Stacktrace:",
      " [1] top-level scope at In[23]:1"
     ]
    }
   ],
   "source": [
    "sigmax(bb)"
   ]
  },
  {
   "cell_type": "code",
   "execution_count": 24,
   "metadata": {},
   "outputs": [
    {
     "ename": "MethodError",
     "evalue": "MethodError: no method matching tensor(::Tuple{SpinBasis{1//2},SpinBasis{1//2}}, ::Tuple{SpinBasis{1//2},SpinBasis{1//2}})",
     "output_type": "error",
     "traceback": [
      "MethodError: no method matching tensor(::Tuple{SpinBasis{1//2},SpinBasis{1//2}}, ::Tuple{SpinBasis{1//2},SpinBasis{1//2}})",
      "",
      "Stacktrace:",
      " [1] top-level scope at In[24]:1"
     ]
    }
   ],
   "source": [
    "b⊗b"
   ]
  },
  {
   "cell_type": "code",
   "execution_count": 25,
   "metadata": {},
   "outputs": [
    {
     "ename": "MethodError",
     "evalue": "MethodError: no method matching tensor(::Tuple{SpinBasis{1//2},SpinBasis{1//2}}, ::Tuple{SpinBasis{1//2},SpinBasis{1//2}})",
     "output_type": "error",
     "traceback": [
      "MethodError: no method matching tensor(::Tuple{SpinBasis{1//2},SpinBasis{1//2}}, ::Tuple{SpinBasis{1//2},SpinBasis{1//2}})",
      "",
      "Stacktrace:",
      " [1] top-level scope at In[25]:1"
     ]
    }
   ],
   "source": [
    "bb = b⊗b\n",
    "SuperOperator(DenseOperator(bb, cϕ(π)))"
   ]
  },
  {
   "cell_type": "code",
   "execution_count": 26,
   "metadata": {},
   "outputs": [
    {
     "ename": "ErrorException",
     "evalue": "type SpinBasis has no field bases",
     "output_type": "error",
     "traceback": [
      "type SpinBasis has no field bases",
      "",
      "Stacktrace:",
      " [1] getproperty(::Any, ::Symbol) at ./sysimg.jl:18",
      " [2] PauliBasis(::Int64) at /home/alexander/QuantumOptics.jl/src/pauli.jl:20",
      " [3] top-level scope at In[26]:1"
     ]
    }
   ],
   "source": [
    "typeof(PauliBasis(1)) <: SpinBasis"
   ]
  },
  {
   "cell_type": "code",
   "execution_count": 27,
   "metadata": {},
   "outputs": [
    {
     "ename": "UndefVarError",
     "evalue": "UndefVarError: bb not defined",
     "output_type": "error",
     "traceback": [
      "UndefVarError: bb not defined",
      "",
      "Stacktrace:",
      " [1] top-level scope at In[27]:1"
     ]
    }
   ],
   "source": [
    "bb.bases"
   ]
  },
  {
   "cell_type": "code",
   "execution_count": 28,
   "metadata": {},
   "outputs": [
    {
     "data": {
      "text/plain": [
       "Tuple{SpinBasis{1//2},SpinBasis{1//2}}"
      ]
     },
     "execution_count": 28,
     "metadata": {},
     "output_type": "execute_result"
    }
   ],
   "source": [
    "typeof(b)"
   ]
  },
  {
   "cell_type": "code",
   "execution_count": 29,
   "metadata": {},
   "outputs": [
    {
     "ename": "UndefVarError",
     "evalue": "UndefVarError: bb not defined",
     "output_type": "error",
     "traceback": [
      "UndefVarError: bb not defined",
      "",
      "Stacktrace:",
      " [1] top-level scope at In[29]:1"
     ]
    }
   ],
   "source": [
    "typeof(bb)"
   ]
  },
  {
   "cell_type": "code",
   "execution_count": 30,
   "metadata": {},
   "outputs": [
    {
     "data": {
      "text/plain": [
       "DenseOperator(dim=2x2)\n",
       "  basis: Spin(1/2)\n",
       " 0.0+0.0im  1.0+0.0im\n",
       " 1.0+0.0im  0.0+0.0im"
      ]
     },
     "execution_count": 30,
     "metadata": {},
     "output_type": "execute_result"
    }
   ],
   "source": [
    "b = SpinBasis(1//2)\n",
    "DenseOperator(sigmax(b))"
   ]
  },
  {
   "cell_type": "code",
   "execution_count": null,
   "metadata": {},
   "outputs": [],
   "source": []
  }
 ],
 "metadata": {
  "@webio": {
   "lastCommId": null,
   "lastKernelId": null
  },
  "kernelspec": {
   "display_name": "Julia 1.1.0",
   "language": "julia",
   "name": "julia-1.1"
  },
  "language_info": {
   "file_extension": ".jl",
   "mimetype": "application/julia",
   "name": "julia",
   "version": "1.1.0"
  }
 },
 "nbformat": 4,
 "nbformat_minor": 2
}
